{
  "nbformat": 4,
  "nbformat_minor": 0,
  "metadata": {
    "colab": {
      "name": "Assinment1.ipynb",
      "provenance": [],
      "collapsed_sections": []
    },
    "kernelspec": {
      "name": "python3",
      "display_name": "Python 3"
    },
    "language_info": {
      "name": "python"
    }
  },
  "cells": [
    {
      "cell_type": "markdown",
      "metadata": {
        "id": "x4Xd2MtPjPbg"
      },
      "source": [
        "1. Write a program which will find all such numbers which are divisible by 7 but are not a\n",
        "      multiple of 5, between 2000 and 3200 (both included). The numbers obtained should be printed\n",
        "      in a comma-separated sequence on a single line."
      ]
    },
    {
      "cell_type": "code",
      "metadata": {
        "colab": {
          "base_uri": "https://localhost:8080/"
        },
        "id": "EGd_fcgPZNEb",
        "outputId": "4f76a58b-b8fe-462c-be1b-1e825a2c2ccb"
      },
      "source": [
        "\n",
        "#Approach 1\n",
        "\n",
        "#Here i value ranges from 2000 to 3000\n",
        "for i in range(2000,3001):\n",
        "  #if i is divisible by 7 and not by 5 then only if block will be executed\n",
        "  if ((i%7==0) and (i%5 !=0)):\n",
        "    #printing i value which matches the condition\n",
        "    print(i,end=',')\n",
        "print(\"\\n***********\")\n",
        "\n",
        "#Approach 2\n",
        "\n",
        "#starting value is represented as i with value 2000\n",
        "i=2000\n",
        "#ending value of loop is represented as end with end value 3000\n",
        "end=3000\n",
        "#while loop executes till i value is less than or equal to end\n",
        "while i<=end:\n",
        "  #if below condition satisfies then only statements inside if block will be executed\n",
        "  if i%7==0 and i%5!=0:\n",
        "    #printing desired values separated by comma\n",
        "    print(i,end=',')\n",
        "  #incrementing the value of i\n",
        "  i+=1"
      ],
      "execution_count": null,
      "outputs": [
        {
          "output_type": "stream",
          "text": [
            "2002,2009,2016,2023,2037,2044,2051,2058,2072,2079,2086,2093,2107,2114,2121,2128,2142,2149,2156,2163,2177,2184,2191,2198,2212,2219,2226,2233,2247,2254,2261,2268,2282,2289,2296,2303,2317,2324,2331,2338,2352,2359,2366,2373,2387,2394,2401,2408,2422,2429,2436,2443,2457,2464,2471,2478,2492,2499,2506,2513,2527,2534,2541,2548,2562,2569,2576,2583,2597,2604,2611,2618,2632,2639,2646,2653,2667,2674,2681,2688,2702,2709,2716,2723,2737,2744,2751,2758,2772,2779,2786,2793,2807,2814,2821,2828,2842,2849,2856,2863,2877,2884,2891,2898,2912,2919,2926,2933,2947,2954,2961,2968,2982,2989,2996,\n",
            "***********\n",
            "2002,2009,2016,2023,2037,2044,2051,2058,2072,2079,2086,2093,2107,2114,2121,2128,2142,2149,2156,2163,2177,2184,2191,2198,2212,2219,2226,2233,2247,2254,2261,2268,2282,2289,2296,2303,2317,2324,2331,2338,2352,2359,2366,2373,2387,2394,2401,2408,2422,2429,2436,2443,2457,2464,2471,2478,2492,2499,2506,2513,2527,2534,2541,2548,2562,2569,2576,2583,2597,2604,2611,2618,2632,2639,2646,2653,2667,2674,2681,2688,2702,2709,2716,2723,2737,2744,2751,2758,2772,2779,2786,2793,2807,2814,2821,2828,2842,2849,2856,2863,2877,2884,2891,2898,2912,2919,2926,2933,2947,2954,2961,2968,2982,2989,2996,"
          ],
          "name": "stdout"
        }
      ]
    },
    {
      "cell_type": "markdown",
      "metadata": {
        "id": "pAVanW13c4Uq"
      },
      "source": [
        "2. Write a Python program to accept the user's first and last name and then getting them printed in the the reverse order with a space between first name and last name"
      ]
    },
    {
      "cell_type": "code",
      "metadata": {
        "colab": {
          "base_uri": "https://localhost:8080/"
        },
        "id": "ZSpOgbhGc2GR",
        "outputId": "3052849c-781a-4c0d-c6f1-cd550689e799"
      },
      "source": [
        "#taking first name as input\n",
        "first_name=input(\"Enter the first name:\")\n",
        "#taking last name as input\n",
        "last_name=input(\"Enter the last name:\")\n",
        "#concatinating first name and last name with space between them\n",
        "s=last_name+\" \"+first_name\n",
        "#printing concatinated string\n",
        "print(s)\n"
      ],
      "execution_count": null,
      "outputs": [
        {
          "output_type": "stream",
          "text": [
            "Enter the first name:Akhil\n",
            "Enter the last name:Kumar\n",
            "Kumar Akhil\n"
          ],
          "name": "stdout"
        }
      ]
    },
    {
      "cell_type": "markdown",
      "metadata": {
        "id": "HQEJ8s89fYuW"
      },
      "source": [
        "3. Write a Python program to find the volume of a sphere with diameter 12 cm.\n",
        "    \n",
        "    Formula: V=4/3 * π * r\n",
        "3"
      ]
    },
    {
      "cell_type": "code",
      "metadata": {
        "colab": {
          "base_uri": "https://localhost:8080/"
        },
        "id": "Q4krPUlrfh-V",
        "outputId": "7f0be019-0bf7-4682-c25c-144dcf24a33d"
      },
      "source": [
        "from math import pi\n",
        "diameter=12\n",
        "#radius is half of diameter \n",
        "r=diameter/2\n",
        "#volume is calculated by applying the formula\n",
        "v=(4/3)*pi*(pow(r,3))\n",
        "print(\"Volume of sphere:\",v)\n",
        "\n",
        "#Approach 2\n",
        "r=diameter/2\n",
        "#r^3 is calculated by using while loop\n",
        "i=0\n",
        "p=1\n",
        "while i<3:\n",
        "  p=p*r\n",
        "  i+=1\n",
        "v=(4/3)*pi*p\n",
        "print(\"Volume of Sphere:\",v)\n"
      ],
      "execution_count": null,
      "outputs": [
        {
          "output_type": "stream",
          "text": [
            "Volume of sphere: 904.7786842338603\n",
            "Volume of Sphere: 904.7786842338603\n"
          ],
          "name": "stdout"
        }
      ]
    }
  ]
}